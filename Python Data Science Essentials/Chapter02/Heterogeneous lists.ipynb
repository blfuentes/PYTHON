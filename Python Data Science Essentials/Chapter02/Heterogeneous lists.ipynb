{
 "cells": [
  {
   "cell_type": "code",
   "execution_count": 2,
   "metadata": {},
   "outputs": [
    {
     "name": "stdout",
     "output_type": "stream",
     "text": [
      "complex_list[:3] int32\n",
      "complex_list[:6] float64\n",
      "complex_list[:9] <U32\n"
     ]
    }
   ],
   "source": [
    "import numpy as np\n",
    "complex_list = [1,2,3] + [1., 2., 3.,] + ['a','b', 'c']\n",
    "Array_2 = np.array(complex_list[:3]) #at first the input list is jut ins\n",
    "print('complex_list[:3]', Array_2.dtype)\n",
    "Array_2 = np.array(complex_list[:6]) # then it is ints and floats\n",
    "print('complex_list[:6]', Array_2.dtype)\n",
    "Array_2 = np.array(complex_list[:9]) # finally we add strings\n",
    "print('complex_list[:9]', Array_2.dtype)"
   ]
  },
  {
   "cell_type": "code",
   "execution_count": 3,
   "metadata": {},
   "outputs": [
    {
     "name": "stdout",
     "output_type": "stream",
     "text": [
      "False\n"
     ]
    }
   ],
   "source": [
    "#Check if a NumPy array is of the desired numeric type\n",
    "print(isinstance(Array_2[0], np.number))"
   ]
  },
  {
   "cell_type": "code",
   "execution_count": null,
   "metadata": {},
   "outputs": [],
   "source": []
  }
 ],
 "metadata": {
  "kernelspec": {
   "display_name": "Python 3",
   "language": "python",
   "name": "python3"
  },
  "language_info": {
   "codemirror_mode": {
    "name": "ipython",
    "version": 3
   },
   "file_extension": ".py",
   "mimetype": "text/x-python",
   "name": "python",
   "nbconvert_exporter": "python",
   "pygments_lexer": "ipython3",
   "version": "3.5.3"
  }
 },
 "nbformat": 4,
 "nbformat_minor": 2
}

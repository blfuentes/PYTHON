{
 "cells": [
  {
   "cell_type": "code",
   "execution_count": 1,
   "metadata": {},
   "outputs": [],
   "source": [
    "import csv"
   ]
  },
  {
   "cell_type": "code",
   "execution_count": 2,
   "metadata": {},
   "outputs": [
    {
     "name": "stdout",
     "output_type": "stream",
     "text": [
      "0 OrderedDict([('sepal_length', '5.1'), ('sepal_width', '3.5'), ('petal_length', '1.4'), ('petal_width', '0.2'), ('target', 'Iris-setosa')])\n"
     ]
    }
   ],
   "source": [
    "iris_filename = 'iris.csv'\n",
    "with open(iris_filename, 'rt') as data_stream:\n",
    "    #'rt' mode\n",
    "    for n, row in enumerate(csv.DictReader(data_stream, fieldnames = ['sepal_length', 'sepal_width', 'petal_length', 'petal_width', 'target'], dialect='excel')):\n",
    "        if n == 0:\n",
    "            print(n, row)\n",
    "        else:\n",
    "            break"
   ]
  },
  {
   "cell_type": "code",
   "execution_count": 3,
   "metadata": {},
   "outputs": [
    {
     "name": "stdout",
     "output_type": "stream",
     "text": [
      "0 ['5.1', '3.5', '1.4', '0.2', 'Iris-setosa']\n"
     ]
    }
   ],
   "source": [
    "with open(iris_filename, 'rt') as data_stream:\n",
    "    for n, row in enumerate(csv.reader(data_stream, dialect='excel')):\n",
    "        if n == 0:\n",
    "            print(n, row)\n",
    "        else:\n",
    "            break"
   ]
  },
  {
   "cell_type": "code",
   "execution_count": 4,
   "metadata": {},
   "outputs": [],
   "source": [
    "def batch_read(filename, batch=5):\n",
    "    #open the data stream\n",
    "    with open(filename, 'rt') as data_stream:\n",
    "        #reset the batch\n",
    "        batch_output = list()\n",
    "        #iterate over the file\n",
    "        for n, row in enumerate(csv.reader(data_stream, dialect='excel')):\n",
    "            #if the batch is of the right size\n",
    "            if n > 0 and n % batch == 0:\n",
    "                #yield back the batch as an ndarray\n",
    "                yield(np.array(batch_output))\n",
    "                #reset the batch and restart\n",
    "                batch_output = list()\n",
    "            #otherwise add the row to  the batch\n",
    "            batch_output.append(row)\n",
    "        #when the loop is over, yield what's\n",
    "        leftyield(np.array(batch_output))"
   ]
  },
  {
   "cell_type": "code",
   "execution_count": 5,
   "metadata": {},
   "outputs": [
    {
     "name": "stdout",
     "output_type": "stream",
     "text": [
      "[['5.1' '3.5' '1.4' '0.2' 'Iris-setosa']\n",
      " ['4.9' '3.0' '1.4' '0.2' 'Iris-setosa']\n",
      " ['4.7' '3.2' '1.3' '0.2' 'Iris-setosa']]\n"
     ]
    }
   ],
   "source": [
    "import numpy as np\n",
    "for batch_input in batch_read(iris_filename, batch=3):\n",
    "    print(batch_input)\n",
    "    break"
   ]
  },
  {
   "cell_type": "code",
   "execution_count": null,
   "metadata": {},
   "outputs": [],
   "source": []
  }
 ],
 "metadata": {
  "kernelspec": {
   "display_name": "Python 3",
   "language": "python",
   "name": "python3"
  },
  "language_info": {
   "codemirror_mode": {
    "name": "ipython",
    "version": 3
   },
   "file_extension": ".py",
   "mimetype": "text/x-python",
   "name": "python",
   "nbconvert_exporter": "python",
   "pygments_lexer": "ipython3",
   "version": "3.6.4"
  }
 },
 "nbformat": 4,
 "nbformat_minor": 2
}
